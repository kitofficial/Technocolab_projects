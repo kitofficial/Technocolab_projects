{
  "nbformat": 4,
  "nbformat_minor": 0,
  "metadata": {
    "kernelspec": {
      "display_name": "Python 3",
      "language": "python",
      "name": "python3"
    },
    "colab": {
      "name": "facial_recognition.ipynb",
      "provenance": []
    },
    "accelerator": "GPU"
  },
  "cells": [
    {
      "cell_type": "markdown",
      "metadata": {
        "id": "XdMIQ63spOqh"
      },
      "source": [
        "# Import libraries"
      ]
    },
    {
      "cell_type": "code",
      "metadata": {
        "id": "53rVo2tJpOqi"
      },
      "source": [
        "import numpy as np # linear algebra\n",
        "import pandas as pd # data processing, CSV file I/O (e.g. pd.read_csv)\n",
        "\n",
        "from keras.utils import to_categorical\n",
        "from keras.callbacks import EarlyStopping\n",
        "from keras.models import Sequential\n",
        "from keras.layers import Dense, Dropout, Activation, Flatten\n",
        "from keras.layers import Conv2D, MaxPooling2D, BatchNormalization\n",
        "from keras.losses import categorical_crossentropy\n",
        "from sklearn.metrics import accuracy_score\n",
        "from keras.optimizers import Adam\n",
        "from keras.regularizers import l2\n",
        "from keras.preprocessing.image import ImageDataGenerator\n",
        "from sklearn.metrics import classification_report, confusion_matrix\n",
        "import matplotlib.pyplot as plt\n",
        "import seaborn as sns\n",
        "\n",
        "import os\n",
        "import warnings\n",
        "warnings.filterwarnings(\"ignore\")"
      ],
      "execution_count": 5,
      "outputs": []
    },
    {
      "cell_type": "markdown",
      "metadata": {
        "id": "SyWkHsNcpOqo"
      },
      "source": [
        "# Data overview"
      ]
    },
    {
      "cell_type": "code",
      "metadata": {
        "id": "fLAHc7yhpOqp",
        "outputId": "200fadf2-bf01-4230-b037-acc0751c3e2e",
        "colab": {
          "resources": {
            "http://localhost:8080/nbextensions/google.colab/files.js": {
              "data": "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",
              "ok": true,
              "headers": [
                [
                  "content-type",
                  "application/javascript"
                ]
              ],
              "status": 200,
              "status_text": ""
            }
          },
          "base_uri": "https://localhost:8080/",
          "height": 73
        }
      },
      "source": [
        "from google.colab import files\n",
        "data =files.upload()\n",
        "#data = pd.read_csv(\"fer2013.csv\")\n",
        "#check data shape\n",
        "#data.shape"
      ],
      "execution_count": 6,
      "outputs": [
        {
          "output_type": "display_data",
          "data": {
            "text/html": [
              "\n",
              "     <input type=\"file\" id=\"files-0fe7ac23-cd5c-4d07-ab1b-6f1f29d7bdd2\" name=\"files[]\" multiple disabled\n",
              "        style=\"border:none\" />\n",
              "     <output id=\"result-0fe7ac23-cd5c-4d07-ab1b-6f1f29d7bdd2\">\n",
              "      Upload widget is only available when the cell has been executed in the\n",
              "      current browser session. Please rerun this cell to enable.\n",
              "      </output>\n",
              "      <script src=\"/nbextensions/google.colab/files.js\"></script> "
            ],
            "text/plain": [
              "<IPython.core.display.HTML object>"
            ]
          },
          "metadata": {
            "tags": []
          }
        },
        {
          "output_type": "stream",
          "text": [
            "Saving fer2013.csv to fer2013.csv\n"
          ],
          "name": "stdout"
        }
      ]
    },
    {
      "cell_type": "code",
      "metadata": {
        "id": "m9RETb2IVW7j",
        "outputId": "7085616f-a8c6-48fd-d03a-ac6f982407e1",
        "colab": {
          "base_uri": "https://localhost:8080/",
          "height": 34
        }
      },
      "source": [
        "import io\n",
        "data=pd.read_csv('fer2013.csv')\n",
        "#data = pd.read_csv(io.StringIO(data['fer2013.csv']),sep=';')\n",
        "#check data shape\n",
        "data.shape"
      ],
      "execution_count": 9,
      "outputs": [
        {
          "output_type": "execute_result",
          "data": {
            "text/plain": [
              "(35887, 3)"
            ]
          },
          "metadata": {
            "tags": []
          },
          "execution_count": 9
        }
      ]
    },
    {
      "cell_type": "code",
      "metadata": {
        "id": "a1lLWV9EpOqt",
        "outputId": "2abbe587-9f92-46da-84cf-9a05b4ad0d0c",
        "colab": {
          "base_uri": "https://localhost:8080/",
          "height": 195
        }
      },
      "source": [
        "#preview first 5 row of data\n",
        "data.head(5)"
      ],
      "execution_count": 10,
      "outputs": [
        {
          "output_type": "execute_result",
          "data": {
            "text/html": [
              "<div>\n",
              "<style scoped>\n",
              "    .dataframe tbody tr th:only-of-type {\n",
              "        vertical-align: middle;\n",
              "    }\n",
              "\n",
              "    .dataframe tbody tr th {\n",
              "        vertical-align: top;\n",
              "    }\n",
              "\n",
              "    .dataframe thead th {\n",
              "        text-align: right;\n",
              "    }\n",
              "</style>\n",
              "<table border=\"1\" class=\"dataframe\">\n",
              "  <thead>\n",
              "    <tr style=\"text-align: right;\">\n",
              "      <th></th>\n",
              "      <th>emotion</th>\n",
              "      <th>pixels</th>\n",
              "      <th>Usage</th>\n",
              "    </tr>\n",
              "  </thead>\n",
              "  <tbody>\n",
              "    <tr>\n",
              "      <th>0</th>\n",
              "      <td>0</td>\n",
              "      <td>70 80 82 72 58 58 60 63 54 58 60 48 89 115 121...</td>\n",
              "      <td>Training</td>\n",
              "    </tr>\n",
              "    <tr>\n",
              "      <th>1</th>\n",
              "      <td>0</td>\n",
              "      <td>151 150 147 155 148 133 111 140 170 174 182 15...</td>\n",
              "      <td>Training</td>\n",
              "    </tr>\n",
              "    <tr>\n",
              "      <th>2</th>\n",
              "      <td>2</td>\n",
              "      <td>231 212 156 164 174 138 161 173 182 200 106 38...</td>\n",
              "      <td>Training</td>\n",
              "    </tr>\n",
              "    <tr>\n",
              "      <th>3</th>\n",
              "      <td>4</td>\n",
              "      <td>24 32 36 30 32 23 19 20 30 41 21 22 32 34 21 1...</td>\n",
              "      <td>Training</td>\n",
              "    </tr>\n",
              "    <tr>\n",
              "      <th>4</th>\n",
              "      <td>6</td>\n",
              "      <td>4 0 0 0 0 0 0 0 0 0 0 0 3 15 23 28 48 50 58 84...</td>\n",
              "      <td>Training</td>\n",
              "    </tr>\n",
              "  </tbody>\n",
              "</table>\n",
              "</div>"
            ],
            "text/plain": [
              "   emotion                                             pixels     Usage\n",
              "0        0  70 80 82 72 58 58 60 63 54 58 60 48 89 115 121...  Training\n",
              "1        0  151 150 147 155 148 133 111 140 170 174 182 15...  Training\n",
              "2        2  231 212 156 164 174 138 161 173 182 200 106 38...  Training\n",
              "3        4  24 32 36 30 32 23 19 20 30 41 21 22 32 34 21 1...  Training\n",
              "4        6  4 0 0 0 0 0 0 0 0 0 0 0 3 15 23 28 48 50 58 84...  Training"
            ]
          },
          "metadata": {
            "tags": []
          },
          "execution_count": 10
        }
      ]
    },
    {
      "cell_type": "markdown",
      "metadata": {
        "id": "-C4w2k_upOqx"
      },
      "source": [
        "# Checking usage values"
      ]
    },
    {
      "cell_type": "code",
      "metadata": {
        "id": "6vRHqwbNpOqy",
        "outputId": "40246977-2045-4f83-c0c2-49052b814de2",
        "colab": {
          "base_uri": "https://localhost:8080/",
          "height": 84
        }
      },
      "source": [
        "data.Usage.value_counts()"
      ],
      "execution_count": 11,
      "outputs": [
        {
          "output_type": "execute_result",
          "data": {
            "text/plain": [
              "Training       28709\n",
              "PrivateTest     3589\n",
              "PublicTest      3589\n",
              "Name: Usage, dtype: int64"
            ]
          },
          "metadata": {
            "tags": []
          },
          "execution_count": 11
        }
      ]
    },
    {
      "cell_type": "markdown",
      "metadata": {
        "id": "QNW6_6ukpOq2"
      },
      "source": [
        "# Checking target labels"
      ]
    },
    {
      "cell_type": "code",
      "metadata": {
        "id": "RDjtH1hSpOq3",
        "outputId": "0948128c-2937-4464-c614-5f8186ea5c16",
        "colab": {
          "base_uri": "https://localhost:8080/",
          "height": 254
        }
      },
      "source": [
        "emotion_map = {0: 'Angry', 1: 'Digust', 2: 'Fear', 3: 'Happy', 4: 'Sad', 5: 'Surprise', 6: 'Neutral'}\n",
        "emotion_counts = data['emotion'].value_counts(sort=False).reset_index()\n",
        "emotion_counts.columns = ['emotion', 'number']\n",
        "emotion_counts['emotion'] = emotion_counts['emotion'].map(emotion_map)\n",
        "emotion_counts"
      ],
      "execution_count": 12,
      "outputs": [
        {
          "output_type": "execute_result",
          "data": {
            "text/html": [
              "<div>\n",
              "<style scoped>\n",
              "    .dataframe tbody tr th:only-of-type {\n",
              "        vertical-align: middle;\n",
              "    }\n",
              "\n",
              "    .dataframe tbody tr th {\n",
              "        vertical-align: top;\n",
              "    }\n",
              "\n",
              "    .dataframe thead th {\n",
              "        text-align: right;\n",
              "    }\n",
              "</style>\n",
              "<table border=\"1\" class=\"dataframe\">\n",
              "  <thead>\n",
              "    <tr style=\"text-align: right;\">\n",
              "      <th></th>\n",
              "      <th>emotion</th>\n",
              "      <th>number</th>\n",
              "    </tr>\n",
              "  </thead>\n",
              "  <tbody>\n",
              "    <tr>\n",
              "      <th>0</th>\n",
              "      <td>Angry</td>\n",
              "      <td>4953</td>\n",
              "    </tr>\n",
              "    <tr>\n",
              "      <th>1</th>\n",
              "      <td>Digust</td>\n",
              "      <td>547</td>\n",
              "    </tr>\n",
              "    <tr>\n",
              "      <th>2</th>\n",
              "      <td>Fear</td>\n",
              "      <td>5121</td>\n",
              "    </tr>\n",
              "    <tr>\n",
              "      <th>3</th>\n",
              "      <td>Happy</td>\n",
              "      <td>8989</td>\n",
              "    </tr>\n",
              "    <tr>\n",
              "      <th>4</th>\n",
              "      <td>Sad</td>\n",
              "      <td>6077</td>\n",
              "    </tr>\n",
              "    <tr>\n",
              "      <th>5</th>\n",
              "      <td>Surprise</td>\n",
              "      <td>4002</td>\n",
              "    </tr>\n",
              "    <tr>\n",
              "      <th>6</th>\n",
              "      <td>Neutral</td>\n",
              "      <td>6198</td>\n",
              "    </tr>\n",
              "  </tbody>\n",
              "</table>\n",
              "</div>"
            ],
            "text/plain": [
              "    emotion  number\n",
              "0     Angry    4953\n",
              "1    Digust     547\n",
              "2      Fear    5121\n",
              "3     Happy    8989\n",
              "4       Sad    6077\n",
              "5  Surprise    4002\n",
              "6   Neutral    6198"
            ]
          },
          "metadata": {
            "tags": []
          },
          "execution_count": 12
        }
      ]
    },
    {
      "cell_type": "markdown",
      "metadata": {
        "id": "YamD0zSVpOq6"
      },
      "source": [
        "# Visualizing through plot"
      ]
    },
    {
      "cell_type": "code",
      "metadata": {
        "id": "FPMI9mErpOq7",
        "outputId": "a6490560-a701-4c4d-84c3-efb09182712b",
        "colab": {
          "base_uri": "https://localhost:8080/",
          "height": 298
        }
      },
      "source": [
        "plt.figure(figsize=(6,4))\n",
        "sns.barplot(emotion_counts.emotion, emotion_counts.number)\n",
        "plt.title('Class distribution')\n",
        "plt.ylabel('Number', fontsize=12)\n",
        "plt.xlabel('Emotions', fontsize=12)\n",
        "plt.show()"
      ],
      "execution_count": 13,
      "outputs": [
        {
          "output_type": "display_data",
          "data": {
            "image/png": "[encoded data removed]",
            "text/plain": [
              "<Figure size 432x288 with 1 Axes>"
            ]
          },
          "metadata": {
            "tags": [],
            "needs_background": "light"
          }
        }
      ]
    },
    {
      "cell_type": "code",
      "metadata": {
        "id": "CGvemLwKpOq_",
        "outputId": "e7b2aa08-319c-42ed-9b61-1939f92d8cd6",
        "colab": {
          "base_uri": "https://localhost:8080/",
          "height": 84
        }
      },
      "source": [
        "face = data[data['emotion'] == 0].iloc[0]\n",
        "\n",
        "print(face)"
      ],
      "execution_count": 14,
      "outputs": [
        {
          "output_type": "stream",
          "text": [
            "emotion                                                    0\n",
            "pixels     70 80 82 72 58 58 60 63 54 58 60 48 89 115 121...\n",
            "Usage                                               Training\n",
            "Name: 0, dtype: object\n"
          ],
          "name": "stdout"
        }
      ]
    },
    {
      "cell_type": "code",
      "metadata": {
        "id": "cqmm4a5rpOrD",
        "outputId": "66ec3652-eb67-4850-f82c-b984da7b95dc",
        "colab": {
          "base_uri": "https://localhost:8080/",
          "height": 34
        }
      },
      "source": [
        "img=np.array(face['pixels'].split())\n",
        "img"
      ],
      "execution_count": 15,
      "outputs": [
        {
          "output_type": "execute_result",
          "data": {
            "text/plain": [
              "array(['70', '80', '82', ..., '106', '109', '82'], dtype='<U3')"
            ]
          },
          "metadata": {
            "tags": []
          },
          "execution_count": 15
        }
      ]
    },
    {
      "cell_type": "code",
      "metadata": {
        "id": "pAD4GYE_pOrG",
        "outputId": "8920ac73-0740-4b3f-90d6-70f98b71dd87",
        "colab": {
          "base_uri": "https://localhost:8080/",
          "height": 134
        }
      },
      "source": [
        "img.reshape(48,48)"
      ],
      "execution_count": 16,
      "outputs": [
        {
          "output_type": "execute_result",
          "data": {
            "text/plain": [
              "array([['70', '80', '82', ..., '52', '43', '41'],\n",
              "       ['65', '61', '58', ..., '56', '52', '44'],\n",
              "       ['50', '43', '54', ..., '49', '56', '47'],\n",
              "       ...,\n",
              "       ['91', '65', '42', ..., '72', '56', '43'],\n",
              "       ['77', '82', '79', ..., '105', '70', '46'],\n",
              "       ['77', '72', '84', ..., '106', '109', '82']], dtype='<U3')"
            ]
          },
          "metadata": {
            "tags": []
          },
          "execution_count": 16
        }
      ]
    },
    {
      "cell_type": "markdown",
      "metadata": {
        "id": "Se8MeaIjpOrK"
      },
      "source": [
        "# Let's make a function to visualize images"
      ]
    },
    {
      "cell_type": "code",
      "metadata": {
        "id": "TESGRmQwpOrK"
      },
      "source": [
        "def row2image(row):\n",
        "    pixels, emotion = row['pixels'], emotion_map[row['emotion']]\n",
        "    img = np.array(pixels.split())\n",
        "    img = img.reshape(48,48)\n",
        "    image = np.zeros((48,48,3))\n",
        "    image[:,:,0] = img\n",
        "    image[:,:,1] = img\n",
        "    image[:,:,2] = img\n",
        "    return np.array([image.astype(np.uint8), emotion])"
      ],
      "execution_count": 17,
      "outputs": []
    },
    {
      "cell_type": "markdown",
      "metadata": {
        "id": "zfSdwN7EpOrN"
      },
      "source": [
        "# Let's visualize images"
      ]
    },
    {
      "cell_type": "code",
      "metadata": {
        "id": "Fpm9H7B0pOrP",
        "outputId": "46a8f0f3-67bd-42ef-f8cc-9c719fd13d3e",
        "colab": {
          "base_uri": "https://localhost:8080/",
          "height": 255
        }
      },
      "source": [
        "for i in range(1,8):\n",
        "    face = data[data['emotion'] == i-1].iloc[0]\n",
        "    img = row2image(face)\n",
        "    plt.subplot(2,4,i)\n",
        "    plt.imshow(img[0])\n",
        "    plt.title(img[1])\n",
        "\n",
        "plt.show()  "
      ],
      "execution_count": 18,
      "outputs": [
        {
          "output_type": "display_data",
          "data": {
            "image/png": "[encoded data removed]",
            "text/plain": [
              "<Figure size 432x288 with 7 Axes>"
            ]
          },
          "metadata": {
            "tags": [],
            "needs_background": "light"
          }
        }
      ]
    },
    {
      "cell_type": "markdown",
      "metadata": {
        "id": "B06QIdJqpOrT"
      },
      "source": [
        "# Preprocessing"
      ]
    },
    {
      "cell_type": "markdown",
      "metadata": {
        "id": "a-zgTbX6pOrU"
      },
      "source": [
        "* Splitting dataset into 3 parts: train, validation, test\n",
        "* Convert strings to lists of integers\n",
        "* Reshape to 48x48 and normalise grayscale image with 255.0\n",
        "* Perform one-hot encoding label, e.g. class 3 to [0,0,0,1,0,0,0]"
      ]
    },
    {
      "cell_type": "code",
      "metadata": {
        "id": "TXm4G1pHpOrU",
        "outputId": "2e6e67bc-0269-4bc4-fd36-ace8d743f38f",
        "colab": {
          "base_uri": "https://localhost:8080/",
          "height": 67
        }
      },
      "source": [
        "data_train = data[data['Usage']=='Training'].copy()\n",
        "data_val   = data[data['Usage']=='PublicTest'].copy()\n",
        "data_test  = data[data['Usage']=='PrivateTest'].copy()\n",
        "print(\"train shape: {}, \\nvalidation shape: {}, \\ntest shape: {}\".format(data_train.shape, data_val.shape, data_test.shape))"
      ],
      "execution_count": 19,
      "outputs": [
        {
          "output_type": "stream",
          "text": [
            "train shape: (28709, 3), \n",
            "validation shape: (3589, 3), \n",
            "test shape: (3589, 3)\n"
          ],
          "name": "stdout"
        }
      ]
    },
    {
      "cell_type": "code",
      "metadata": {
        "id": "N7zfhtHApOrX",
        "outputId": "dd2b8a7e-0102-478c-b1c9-576ecbc3d37a",
        "colab": {
          "base_uri": "https://localhost:8080/",
          "height": 34
        }
      },
      "source": [
        "data_train_final = pd.concat([data_train, data_val])\n",
        "data_train_final.shape"
      ],
      "execution_count": 20,
      "outputs": [
        {
          "output_type": "execute_result",
          "data": {
            "text/plain": [
              "(32298, 3)"
            ]
          },
          "metadata": {
            "tags": []
          },
          "execution_count": 20
        }
      ]
    },
    {
      "cell_type": "code",
      "metadata": {
        "id": "8qt0CiKgpOra"
      },
      "source": [
        "#df_test_final = pd.concat([data_val, data_test])\n",
        "#df_test_final.shape"
      ],
      "execution_count": 21,
      "outputs": []
    },
    {
      "cell_type": "markdown",
      "metadata": {
        "id": "iYRXK0dEpOre"
      },
      "source": [
        "# Train data\n",
        "## Convert strings to lists of integers"
      ]
    },
    {
      "cell_type": "code",
      "metadata": {
        "id": "GMYiY1r9pOrf"
      },
      "source": [
        "#Train data\n",
        "data_train_final['pixels'] = data_train_final['pixels'].apply(lambda pixel_sequence: [int(pixel) for pixel in pixel_sequence.split()])"
      ],
      "execution_count": 22,
      "outputs": []
    },
    {
      "cell_type": "markdown",
      "metadata": {
        "id": "Xvow00YzpOri"
      },
      "source": [
        "## Normalizing"
      ]
    },
    {
      "cell_type": "code",
      "metadata": {
        "id": "Ug4EThxIpOrj",
        "outputId": "020282da-c18a-42ec-a14b-07fee8f2b2eb",
        "colab": {
          "base_uri": "https://localhost:8080/",
          "height": 34
        }
      },
      "source": [
        "width, height = 48, 48\n",
        "train_X = np.array(data_train_final['pixels'].tolist(), dtype='float32').reshape(-1,width, height,1)/255.0  \n",
        "train_X.shape"
      ],
      "execution_count": 23,
      "outputs": [
        {
          "output_type": "execute_result",
          "data": {
            "text/plain": [
              "(32298, 48, 48, 1)"
            ]
          },
          "metadata": {
            "tags": []
          },
          "execution_count": 23
        }
      ]
    },
    {
      "cell_type": "markdown",
      "metadata": {
        "id": "V_d5qbAspOrm"
      },
      "source": [
        "## One-hot encoding label"
      ]
    },
    {
      "cell_type": "code",
      "metadata": {
        "id": "c7GkJKe_pOrn",
        "outputId": "88ef4c13-233b-481a-9aea-bde322b5db1b",
        "colab": {
          "base_uri": "https://localhost:8080/",
          "height": 134
        }
      },
      "source": [
        "num_classes = 7\n",
        "from sklearn import preprocessing\n",
        "le = preprocessing.LabelEncoder()\n",
        "train_Y = to_categorical(data_train_final['emotion'], num_classes)  \n",
        "#train_Y.shape\n",
        "train_Y"
      ],
      "execution_count": 24,
      "outputs": [
        {
          "output_type": "execute_result",
          "data": {
            "text/plain": [
              "array([[1., 0., 0., ..., 0., 0., 0.],\n",
              "       [1., 0., 0., ..., 0., 0., 0.],\n",
              "       [0., 0., 1., ..., 0., 0., 0.],\n",
              "       ...,\n",
              "       [0., 0., 0., ..., 1., 0., 0.],\n",
              "       [0., 0., 0., ..., 1., 0., 0.],\n",
              "       [0., 0., 0., ..., 1., 0., 0.]], dtype=float32)"
            ]
          },
          "metadata": {
            "tags": []
          },
          "execution_count": 24
        }
      ]
    },
    {
      "cell_type": "markdown",
      "metadata": {
        "id": "IVqmqbHCpOrq"
      },
      "source": [
        "# Test data\n",
        "## Convert strings to lists of integers"
      ]
    },
    {
      "cell_type": "code",
      "metadata": {
        "id": "o9V2VE0TpOrr"
      },
      "source": [
        "#Validation data\n",
        "data_test['pixels'] = data_test['pixels'].apply(lambda pixel_sequence: [int(pixel) for pixel in pixel_sequence.split()])"
      ],
      "execution_count": 25,
      "outputs": []
    },
    {
      "cell_type": "markdown",
      "metadata": {
        "id": "X3mhHQpopOru"
      },
      "source": [
        "## Normalizing"
      ]
    },
    {
      "cell_type": "code",
      "metadata": {
        "id": "xYLJaQE8pOru",
        "outputId": "219ea81d-151d-48a9-cfe7-ccf9294f4811",
        "colab": {
          "base_uri": "https://localhost:8080/",
          "height": 34
        }
      },
      "source": [
        "width, height = 48, 48\n",
        "test_X = np.array(data_test['pixels'].tolist(), dtype='float32').reshape(-1,width, height,1)/255.0  \n",
        "test_X.shape"
      ],
      "execution_count": 26,
      "outputs": [
        {
          "output_type": "execute_result",
          "data": {
            "text/plain": [
              "(3589, 48, 48, 1)"
            ]
          },
          "metadata": {
            "tags": []
          },
          "execution_count": 26
        }
      ]
    },
    {
      "cell_type": "markdown",
      "metadata": {
        "id": "lqSoEas8pOrx"
      },
      "source": [
        "## One-hot encoding label"
      ]
    },
    {
      "cell_type": "code",
      "metadata": {
        "id": "BjlVTz16pOry",
        "outputId": "fc4fe671-41ab-429c-c5c4-b8d40e9ce5f2",
        "colab": {
          "base_uri": "https://localhost:8080/",
          "height": 34
        }
      },
      "source": [
        "num_classes = 7 \n",
        "test_Y = to_categorical(data_test['emotion'], num_classes)  \n",
        "test_Y.shape"
      ],
      "execution_count": 27,
      "outputs": [
        {
          "output_type": "execute_result",
          "data": {
            "text/plain": [
              "(3589, 7)"
            ]
          },
          "metadata": {
            "tags": []
          },
          "execution_count": 27
        }
      ]
    },
    {
      "cell_type": "markdown",
      "metadata": {
        "id": "tWU18lpCpOr1"
      },
      "source": [
        "# Building CNN Model"
      ]
    },
    {
      "cell_type": "markdown",
      "metadata": {
        "id": "LYNtDpVNpOr2"
      },
      "source": [
        "## Initializing parameters"
      ]
    },
    {
      "cell_type": "code",
      "metadata": {
        "id": "GqG6Bbe5pOr2"
      },
      "source": [
        "#initilize parameters\n",
        "num_classes = 7 \n",
        "width, height = 48, 48\n",
        "num_epochs = 50\n",
        "batch_size = 64\n",
        "num_features = 64"
      ],
      "execution_count": 28,
      "outputs": []
    },
    {
      "cell_type": "markdown",
      "metadata": {
        "id": "n1eB1yOppOr7"
      },
      "source": [
        "## CNN"
      ]
    },
    {
      "cell_type": "code",
      "metadata": {
        "id": "HFFbBpaIpOr8",
        "outputId": "eb71d66a-802d-4fb9-c301-0a1a9134343b",
        "colab": {
          "base_uri": "https://localhost:8080/",
          "height": 1000
        }
      },
      "source": [
        "model = Sequential()\n",
        "\n",
        "#module 1\n",
        "model.add(Conv2D(2*2*num_features, kernel_size=(3, 3), input_shape=(width, height, 1), data_format='channels_last'))\n",
        "model.add(BatchNormalization())\n",
        "model.add(Activation('relu'))\n",
        "model.add(Conv2D(2*2*num_features, kernel_size=(3, 3), padding='same'))\n",
        "model.add(BatchNormalization())\n",
        "model.add(Activation('relu'))\n",
        "model.add(MaxPooling2D(pool_size=(2, 2), strides=(2, 2)))\n",
        "\n",
        "#module 2\n",
        "model.add(Conv2D(2*num_features, kernel_size=(3, 3), padding='same'))\n",
        "model.add(BatchNormalization())\n",
        "model.add(Activation('relu'))\n",
        "model.add(Conv2D(2*num_features, kernel_size=(3, 3), padding='same'))\n",
        "model.add(BatchNormalization())\n",
        "model.add(Activation('relu'))\n",
        "model.add(MaxPooling2D(pool_size=(2, 2), strides=(2, 2)))\n",
        "\n",
        "#module 3\n",
        "model.add(Conv2D(num_features, kernel_size=(3, 3), padding='same'))\n",
        "model.add(BatchNormalization())\n",
        "model.add(Activation('relu'))\n",
        "model.add(Conv2D(num_features, kernel_size=(3, 3), padding='same'))\n",
        "model.add(BatchNormalization())\n",
        "model.add(Activation('relu'))\n",
        "model.add(MaxPooling2D(pool_size=(2, 2), strides=(2, 2)))\n",
        "\n",
        "#flatten\n",
        "model.add(Flatten())\n",
        "\n",
        "#dense 1\n",
        "model.add(Dense(2*2*2*num_features))\n",
        "model.add(BatchNormalization())\n",
        "model.add(Activation('relu'))\n",
        "\n",
        "#dense 2\n",
        "model.add(Dense(2*2*num_features))\n",
        "model.add(BatchNormalization())\n",
        "model.add(Activation('relu'))\n",
        "\n",
        "#dense 3\n",
        "model.add(Dense(2*num_features))\n",
        "model.add(BatchNormalization())\n",
        "model.add(Activation('relu'))\n",
        "\n",
        "#output layer\n",
        "model.add(Dense(num_classes, activation='softmax'))\n",
        "\n",
        "model.compile(loss='categorical_crossentropy', \n",
        "              optimizer=Adam(lr=0.001, beta_1=0.9, beta_2=0.999, epsilon=1e-7), \n",
        "              metrics=['accuracy'])\n",
        "\n",
        "model.summary()"
      ],
      "execution_count": 29,
      "outputs": [
        {
          "output_type": "stream",
          "text": [
            "Model: \"sequential\"\n",
            "_________________________________________________________________\n",
            "Layer (type)                 Output Shape              Param #   \n",
            "=================================================================\n",
            "conv2d (Conv2D)              (None, 46, 46, 256)       2560      \n",
            "_________________________________________________________________\n",
            "batch_normalization (BatchNo (None, 46, 46, 256)       1024      \n",
            "_________________________________________________________________\n",
            "activation (Activation)      (None, 46, 46, 256)       0         \n",
            "_________________________________________________________________\n",
            "conv2d_1 (Conv2D)            (None, 46, 46, 256)       590080    \n",
            "_________________________________________________________________\n",
            "batch_normalization_1 (Batch (None, 46, 46, 256)       1024      \n",
            "_________________________________________________________________\n",
            "activation_1 (Activation)    (None, 46, 46, 256)       0         \n",
            "_________________________________________________________________\n",
            "max_pooling2d (MaxPooling2D) (None, 23, 23, 256)       0         \n",
            "_________________________________________________________________\n",
            "conv2d_2 (Conv2D)            (None, 23, 23, 128)       295040    \n",
            "_________________________________________________________________\n",
            "batch_normalization_2 (Batch (None, 23, 23, 128)       512       \n",
            "_________________________________________________________________\n",
            "activation_2 (Activation)    (None, 23, 23, 128)       0         \n",
            "_________________________________________________________________\n",
            "conv2d_3 (Conv2D)            (None, 23, 23, 128)       147584    \n",
            "_________________________________________________________________\n",
            "batch_normalization_3 (Batch (None, 23, 23, 128)       512       \n",
            "_________________________________________________________________\n",
            "activation_3 (Activation)    (None, 23, 23, 128)       0         \n",
            "_________________________________________________________________\n",
            "max_pooling2d_1 (MaxPooling2 (None, 11, 11, 128)       0         \n",
            "_________________________________________________________________\n",
            "conv2d_4 (Conv2D)            (None, 11, 11, 64)        73792     \n",
            "_________________________________________________________________\n",
            "batch_normalization_4 (Batch (None, 11, 11, 64)        256       \n",
            "_________________________________________________________________\n",
            "activation_4 (Activation)    (None, 11, 11, 64)        0         \n",
            "_________________________________________________________________\n",
            "conv2d_5 (Conv2D)            (None, 11, 11, 64)        36928     \n",
            "_________________________________________________________________\n",
            "batch_normalization_5 (Batch (None, 11, 11, 64)        256       \n",
            "_________________________________________________________________\n",
            "activation_5 (Activation)    (None, 11, 11, 64)        0         \n",
            "_________________________________________________________________\n",
            "max_pooling2d_2 (MaxPooling2 (None, 5, 5, 64)          0         \n",
            "_________________________________________________________________\n",
            "flatten (Flatten)            (None, 1600)              0         \n",
            "_________________________________________________________________\n",
            "dense (Dense)                (None, 512)               819712    \n",
            "_________________________________________________________________\n",
            "batch_normalization_6 (Batch (None, 512)               2048      \n",
            "_________________________________________________________________\n",
            "activation_6 (Activation)    (None, 512)               0         \n",
            "_________________________________________________________________\n",
            "dense_1 (Dense)              (None, 256)               131328    \n",
            "_________________________________________________________________\n",
            "batch_normalization_7 (Batch (None, 256)               1024      \n",
            "_________________________________________________________________\n",
            "activation_7 (Activation)    (None, 256)               0         \n",
            "_________________________________________________________________\n",
            "dense_2 (Dense)              (None, 128)               32896     \n",
            "_________________________________________________________________\n",
            "batch_normalization_8 (Batch (None, 128)               512       \n",
            "_________________________________________________________________\n",
            "activation_8 (Activation)    (None, 128)               0         \n",
            "_________________________________________________________________\n",
            "dense_3 (Dense)              (None, 7)                 903       \n",
            "=================================================================\n",
            "Total params: 2,137,991\n",
            "Trainable params: 2,134,407\n",
            "Non-trainable params: 3,584\n",
            "_________________________________________________________________\n"
          ],
          "name": "stdout"
        }
      ]
    },
    {
      "cell_type": "markdown",
      "metadata": {
        "id": "KAB7IA30pOsC"
      },
      "source": [
        "# Data Augmentation"
      ]
    },
    {
      "cell_type": "code",
      "metadata": {
        "id": "XuULeWH3pOsD",
        "outputId": "9cdcd59f-da99-4c0b-8561-1398325ab1c6",
        "colab": {
          "base_uri": "https://localhost:8080/",
          "height": 1000
        }
      },
      "source": [
        "# data generator\n",
        "data_generator = ImageDataGenerator(\n",
        "                        featurewise_center=False,\n",
        "                        featurewise_std_normalization=False,\n",
        "                        rotation_range=10,\n",
        "                        width_shift_range=0.1,\n",
        "                        height_shift_range=0.1,\n",
        "                        zoom_range=.1,\n",
        "                        horizontal_flip=True)\n",
        "trian_aug = data_generator.flow(train_X, train_Y, batch_size)\n",
        "test_aug =  data_generator.flow(test_X, test_Y,batch_size)                            \n",
        "es = EarlyStopping(monitor='val_loss', patience = 10, mode = 'min', restore_best_weights=True)\n",
        "\n",
        "\n",
        "history = model.fit(\n",
        "      trian_aug,\n",
        "      steps_per_epoch=len(train_X) / batch_size,  # 2000 images = batch_size * steps\n",
        "      epochs=num_epochs,\n",
        "      validation_data=test_aug,\n",
        "      callbacks = [es],\n",
        "      verbose=2)\n",
        "\n",
        "\n",
        "\n",
        "\n",
        "#history = model.fit_generator(trian_aug,\n",
        "                                #steps_per_epoch=len(train_X) / batch_size,\n",
        "                                #epochs=num_epochs,\n",
        "                                #verbose=2,\n",
        "                                #callbacks = [es] \n",
        "                                #validation_data = test_aug))\n"
      ],
      "execution_count": 30,
      "outputs": [
        {
          "output_type": "stream",
          "text": [
            "Epoch 1/50\n",
            "505/504 - 46s - loss: 1.6816 - accuracy: 0.3328 - val_loss: 1.9847 - val_accuracy: 0.2725\n",
            "Epoch 2/50\n",
            "505/504 - 47s - loss: 1.3810 - accuracy: 0.4673 - val_loss: 1.4139 - val_accuracy: 0.4553\n",
            "Epoch 3/50\n",
            "505/504 - 49s - loss: 1.2367 - accuracy: 0.5247 - val_loss: 1.2616 - val_accuracy: 0.5138\n",
            "Epoch 4/50\n",
            "505/504 - 48s - loss: 1.1577 - accuracy: 0.5620 - val_loss: 1.3105 - val_accuracy: 0.5110\n",
            "Epoch 5/50\n",
            "505/504 - 49s - loss: 1.1141 - accuracy: 0.5784 - val_loss: 1.1891 - val_accuracy: 0.5294\n",
            "Epoch 6/50\n",
            "505/504 - 49s - loss: 1.0784 - accuracy: 0.5906 - val_loss: 1.1365 - val_accuracy: 0.5759\n",
            "Epoch 7/50\n",
            "505/504 - 49s - loss: 1.0446 - accuracy: 0.6030 - val_loss: 1.2043 - val_accuracy: 0.5391\n",
            "Epoch 8/50\n",
            "505/504 - 49s - loss: 1.0200 - accuracy: 0.6170 - val_loss: 1.2182 - val_accuracy: 0.5623\n",
            "Epoch 9/50\n",
            "505/504 - 49s - loss: 0.9947 - accuracy: 0.6219 - val_loss: 1.1239 - val_accuracy: 0.5754\n",
            "Epoch 10/50\n",
            "505/504 - 49s - loss: 0.9750 - accuracy: 0.6313 - val_loss: 1.1167 - val_accuracy: 0.5921\n",
            "Epoch 11/50\n",
            "505/504 - 48s - loss: 0.9574 - accuracy: 0.6369 - val_loss: 1.0954 - val_accuracy: 0.5879\n",
            "Epoch 12/50\n",
            "505/504 - 48s - loss: 0.9434 - accuracy: 0.6459 - val_loss: 1.1169 - val_accuracy: 0.5915\n",
            "Epoch 13/50\n",
            "505/504 - 48s - loss: 0.9244 - accuracy: 0.6538 - val_loss: 1.2276 - val_accuracy: 0.5489\n",
            "Epoch 14/50\n",
            "505/504 - 48s - loss: 0.9056 - accuracy: 0.6592 - val_loss: 1.0469 - val_accuracy: 0.6038\n",
            "Epoch 15/50\n",
            "505/504 - 48s - loss: 0.8900 - accuracy: 0.6632 - val_loss: 1.0655 - val_accuracy: 0.6046\n",
            "Epoch 16/50\n",
            "505/504 - 48s - loss: 0.8769 - accuracy: 0.6704 - val_loss: 1.0396 - val_accuracy: 0.6116\n",
            "Epoch 17/50\n",
            "505/504 - 48s - loss: 0.8652 - accuracy: 0.6734 - val_loss: 1.0393 - val_accuracy: 0.6113\n",
            "Epoch 18/50\n",
            "505/504 - 48s - loss: 0.8516 - accuracy: 0.6817 - val_loss: 1.0435 - val_accuracy: 0.6216\n",
            "Epoch 19/50\n",
            "505/504 - 49s - loss: 0.8421 - accuracy: 0.6828 - val_loss: 1.0155 - val_accuracy: 0.6247\n",
            "Epoch 20/50\n",
            "505/504 - 48s - loss: 0.8172 - accuracy: 0.6918 - val_loss: 1.0064 - val_accuracy: 0.6369\n",
            "Epoch 21/50\n",
            "505/504 - 49s - loss: 0.8060 - accuracy: 0.6978 - val_loss: 0.9739 - val_accuracy: 0.6308\n",
            "Epoch 22/50\n",
            "505/504 - 49s - loss: 0.7987 - accuracy: 0.6985 - val_loss: 1.0141 - val_accuracy: 0.6356\n",
            "Epoch 23/50\n",
            "505/504 - 48s - loss: 0.7868 - accuracy: 0.7042 - val_loss: 1.0204 - val_accuracy: 0.6383\n",
            "Epoch 24/50\n",
            "505/504 - 48s - loss: 0.7744 - accuracy: 0.7096 - val_loss: 1.0316 - val_accuracy: 0.6158\n",
            "Epoch 25/50\n",
            "505/504 - 49s - loss: 0.7625 - accuracy: 0.7134 - val_loss: 1.0170 - val_accuracy: 0.6225\n",
            "Epoch 26/50\n",
            "505/504 - 49s - loss: 0.7511 - accuracy: 0.7185 - val_loss: 1.0455 - val_accuracy: 0.6330\n",
            "Epoch 27/50\n",
            "505/504 - 49s - loss: 0.7343 - accuracy: 0.7238 - val_loss: 0.9817 - val_accuracy: 0.6400\n",
            "Epoch 28/50\n",
            "505/504 - 49s - loss: 0.7232 - accuracy: 0.7298 - val_loss: 1.0585 - val_accuracy: 0.6325\n",
            "Epoch 29/50\n",
            "505/504 - 48s - loss: 0.7120 - accuracy: 0.7335 - val_loss: 1.0052 - val_accuracy: 0.6422\n",
            "Epoch 30/50\n",
            "505/504 - 48s - loss: 0.7006 - accuracy: 0.7380 - val_loss: 1.0510 - val_accuracy: 0.6322\n",
            "Epoch 31/50\n",
            "505/504 - 48s - loss: 0.6942 - accuracy: 0.7386 - val_loss: 0.9756 - val_accuracy: 0.6467\n"
          ],
          "name": "stdout"
        }
      ]
    },
    {
      "cell_type": "markdown",
      "metadata": {
        "id": "XQpx0OG3pOsL"
      },
      "source": [
        "# Visualize Training Performance"
      ]
    },
    {
      "cell_type": "code",
      "metadata": {
        "id": "TkdJwC_YpOsP",
        "outputId": "b57c052f-3afa-4461-e0ab-c4307bfd828a",
        "colab": {
          "base_uri": "https://localhost:8080/",
          "height": 590
        }
      },
      "source": [
        "# list all data in history\n",
        "print(history.history.keys())\n",
        "# summarize history for accuracy\n",
        "plt.plot(history.history['accuracy'])\n",
        "plt.plot(history.history['val_accuracy'])\n",
        "plt.title('model accuracy')\n",
        "plt.ylabel('accuracy')\n",
        "plt.xlabel('epoch')\n",
        "plt.legend(['train', 'test'], loc='upper left')\n",
        "plt.show()\n",
        "# summarize history for loss\n",
        "plt.plot(history.history['loss'])\n",
        "plt.plot(history.history['val_loss'])\n",
        "plt.title('model loss')\n",
        "plt.ylabel('loss')\n",
        "plt.xlabel('epoch')\n",
        "plt.legend(['train', 'test'], loc='upper left')\n",
        "plt.show()"
      ],
      "execution_count": 31,
      "outputs": [
        {
          "output_type": "stream",
          "text": [
            "dict_keys(['loss', 'accuracy', 'val_loss', 'val_accuracy'])\n"
          ],
          "name": "stdout"
        },
        {
          "output_type": "display_data",
          "data": {
            "image/png": "[encoded data removed]",
            "text/plain": [
              "<Figure size 432x288 with 1 Axes>"
            ]
          },
          "metadata": {
            "tags": [],
            "needs_background": "light"
          }
        },
        {
          "output_type": "display_data",
          "data": {
            "image/png": "[encoded data removed]",
            "text/plain": [
              "<Figure size 432x288 with 1 Axes>"
            ]
          },
          "metadata": {
            "tags": [],
            "needs_background": "light"
          }
        }
      ]
    },
    {
      "cell_type": "code",
      "metadata": {
        "id": "pnro9euIpOsS"
      },
      "source": [
        "ferr_json = model.to_json()\n",
        "with open(\"model.json\",\"w\") as json_file:\n",
        "  json_file.write(ferr_json)\n",
        "  model.save_weights(\"model_weights.h5\")"
      ],
      "execution_count": 32,
      "outputs": []
    }
  ]
}